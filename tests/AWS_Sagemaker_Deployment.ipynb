{
 "cells": [
  {
   "cell_type": "markdown",
   "metadata": {},
   "source": [
    "## Custom ML models in Docker Containers\n",
    "\n",
    "Using docker containers to deploying custom machine learning solutions can help the solution to become platform independent. Further, these solutions can also be easily ported to an edge device.\n",
    "\n",
    "AWS provides ability to host custom models as a docker container in the Elastic Container Registry (ECR). These hosted models can be trained and inferred using AWS Sagemaker platform using custom APIs which are designed here using `FAST-API` in python.\n",
    "\n",
    "WARNING: The documentation is not complete"
   ]
  },
  {
   "cell_type": "code",
   "execution_count": null,
   "metadata": {},
   "outputs": [],
   "source": []
  }
 ],
 "metadata": {
  "kernelspec": {
   "display_name": "Python 3",
   "language": "python",
   "name": "python3"
  },
  "language_info": {
   "codemirror_mode": {
    "name": "ipython",
    "version": 3
   },
   "file_extension": ".py",
   "mimetype": "text/x-python",
   "name": "python",
   "nbconvert_exporter": "python",
   "pygments_lexer": "ipython3",
   "version": "3.7.6"
  }
 },
 "nbformat": 4,
 "nbformat_minor": 4
}
